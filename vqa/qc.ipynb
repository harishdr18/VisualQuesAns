{
 "cells": [
  {
   "cell_type": "code",
   "execution_count": 1,
   "metadata": {},
   "outputs": [],
   "source": [
    "import torch\n",
    "import torch.nn as nn\n",
    "import torch.nn.functional as F\n"
   ]
  },
  {
   "cell_type": "code",
   "execution_count": 2,
   "metadata": {},
   "outputs": [],
   "source": [
    "class CrossModalityEncoderBlock(nn.Module):\n",
    "    def __init__(self, feature_dim, num_heads):\n",
    "        super(CrossModalityEncoderBlock, self).__init__()\n",
    "        self.cross_attention = nn.MultiheadAttention(embed_dim=feature_dim, num_heads=num_heads)\n",
    "        self.ffn = nn.Sequential(\n",
    "            nn.Linear(feature_dim, feature_dim),\n",
    "            nn.ReLU(),\n",
    "            nn.Linear(feature_dim, feature_dim)\n",
    "        )\n",
    "        self.layer_norm1 = nn.LayerNorm(feature_dim)\n",
    "        self.layer_norm2 = nn.LayerNorm(feature_dim)\n",
    "    \n",
    "    def forward(self, x1, x2):\n",
    "        # Cross-Attention: x1 attends to x2\n",
    "        attn_output, _ = self.cross_attention(x1, x2, x2)\n",
    "        x1 = self.layer_norm1(x1 + attn_output)  # Residual connection\n",
    "        \n",
    "        # Feed-Forward Network\n",
    "        ffn_output = self.ffn(x1)\n",
    "        x1 = self.layer_norm2(x1 + ffn_output)  # Residual connection\n",
    "        return x1\n"
   ]
  },
  {
   "cell_type": "code",
   "execution_count": 3,
   "metadata": {},
   "outputs": [],
   "source": [
    "class QuestionCaptionAlignment(nn.Module):\n",
    "    def __init__(self, feature_dim, num_heads, num_layers):\n",
    "        super(QuestionCaptionAlignment, self).__init__()\n",
    "        self.layers = nn.ModuleList([CrossModalityEncoderBlock(feature_dim, num_heads) for _ in range(num_layers)])\n",
    "    \n",
    "    def forward(self, Fq, Fc):\n",
    "        for layer in self.layers:\n",
    "            Fc = layer(Fc, Fq)  # Align caption with question feature\n",
    "            Fq = layer(Fq, Fc)  # Align question with enhanced caption feature\n",
    "        return Fq, Fc\n"
   ]
  },
  {
   "cell_type": "code",
   "execution_count": 4,
   "metadata": {},
   "outputs": [
    {
     "name": "stderr",
     "output_type": "stream",
     "text": [
      "C:\\Users\\Dell\\AppData\\Local\\Temp\\ipykernel_9760\\4169841701.py:1: FutureWarning: You are using `torch.load` with `weights_only=False` (the current default value), which uses the default pickle module implicitly. It is possible to construct malicious pickle data which will execute arbitrary code during unpickling (See https://github.com/pytorch/pytorch/blob/main/SECURITY.md#untrusted-models for more details). In a future release, the default value for `weights_only` will be flipped to `True`. This limits the functions that could be executed during unpickling. Arbitrary objects will no longer be allowed to be loaded via this mode unless they are explicitly allowlisted by the user via `torch.serialization.add_safe_globals`. We recommend you start setting `weights_only=True` for any use case where you don't have full control of the loaded file. Please open an issue on GitHub for any issues related to this experimental feature.\n",
      "  Fc = torch.load('D:/Project_phase_1/text modality/caption_features.pt')  # Caption feature encoding\n",
      "C:\\Users\\Dell\\AppData\\Local\\Temp\\ipykernel_9760\\4169841701.py:2: FutureWarning: You are using `torch.load` with `weights_only=False` (the current default value), which uses the default pickle module implicitly. It is possible to construct malicious pickle data which will execute arbitrary code during unpickling (See https://github.com/pytorch/pytorch/blob/main/SECURITY.md#untrusted-models for more details). In a future release, the default value for `weights_only` will be flipped to `True`. This limits the functions that could be executed during unpickling. Arbitrary objects will no longer be allowed to be loaded via this mode unless they are explicitly allowlisted by the user via `torch.serialization.add_safe_globals`. We recommend you start setting `weights_only=True` for any use case where you don't have full control of the loaded file. Please open an issue on GitHub for any issues related to this experimental feature.\n",
      "  Fq = torch.load('D:/Project_phase_1/text modality/question_features.pt')  # Question feature encoding\n"
     ]
    }
   ],
   "source": [
    "Fc = torch.load('D:/Project_phase_1/text modality/caption_features.pt')  # Caption feature encoding\n",
    "Fq = torch.load('D:/Project_phase_1/text modality/question_features.pt')  # Question feature encoding\n"
   ]
  },
  {
   "cell_type": "code",
   "execution_count": null,
   "metadata": {},
   "outputs": [],
   "source": [
    "# Hyperparameters\n",
    "feature_dim = 768  # Adjust based on your encoding dimensions\n",
    "num_heads = 8\n",
    "num_layers_QC = 5  # NQC layers for Question-Caption Alignment\n",
    "\n",
    "# Instantiate alignment modules\n",
    "qc_alignment = QuestionCaptionAlignment(feature_dim, num_heads, num_layers_QC)\n",
    "\n",
    "\n",
    "# Forward pass for Question-Caption alignment\n",
    "Fq_enhanced, Fc_q = qc_alignment(Fq, Fc)\n"
   ]
  },
  {
   "cell_type": "code",
   "execution_count": 6,
   "metadata": {},
   "outputs": [
    {
     "data": {
      "text/plain": [
       "torch.Size([15, 1, 768])"
      ]
     },
     "execution_count": 6,
     "metadata": {},
     "output_type": "execute_result"
    }
   ],
   "source": [
    "Fc.shape"
   ]
  },
  {
   "cell_type": "code",
   "execution_count": 7,
   "metadata": {},
   "outputs": [
    {
     "data": {
      "text/plain": [
       "torch.Size([20, 8, 768])"
      ]
     },
     "execution_count": 7,
     "metadata": {},
     "output_type": "execute_result"
    }
   ],
   "source": [
    "Fq.shape"
   ]
  },
  {
   "cell_type": "code",
   "execution_count": 9,
   "metadata": {},
   "outputs": [],
   "source": [
    "# Ensure matching batch size\n",
    "Fc = Fc.repeat(1, 8, 1)  # Repeat the caption feature tensor for 8 batches\n",
    "\n",
    "# Ensure matching sequence length\n",
    "Fc = Fc[:, :20, :]  # Truncate the caption feature tensor if needed\n",
    "\n",
    "# Forward pass\n",
    "Fq_enhanced, Fc_q = qc_alignment(Fq, Fc)\n"
   ]
  },
  {
   "cell_type": "code",
   "execution_count": 10,
   "metadata": {},
   "outputs": [
    {
     "data": {
      "text/plain": [
       "tensor([[[-0.7723, -1.3168, -0.3231,  ...,  0.2139, -0.3807, -0.3354],\n",
       "         [-0.8277, -1.0029, -0.4432,  ...,  0.3182, -0.5649, -0.3708],\n",
       "         [-0.8892, -1.1870, -0.2554,  ...,  0.3752, -1.3767, -0.5385],\n",
       "         ...,\n",
       "         [-1.0942, -1.2227, -0.6341,  ...,  0.6075, -0.9951, -0.5390],\n",
       "         [-1.0568, -0.9494, -0.7056,  ...,  0.6367, -0.9933,  0.1635],\n",
       "         [-1.0929, -1.3234, -0.4280,  ...,  0.5968, -0.4450,  0.0582]],\n",
       "\n",
       "        [[ 0.0341, -1.5676, -1.3659,  ...,  1.7105, -1.5064, -0.2091],\n",
       "         [-0.8501, -0.8165, -1.0338,  ...,  1.1966, -1.1694, -0.3077],\n",
       "         [-0.6272, -0.4620, -0.0289,  ...,  0.7102, -1.3024,  0.0893],\n",
       "         ...,\n",
       "         [-0.8615, -0.6658, -0.8772,  ...,  1.4900, -1.7007, -0.2039],\n",
       "         [-0.5709, -0.5890, -0.7153,  ...,  1.3896, -1.3399,  0.3017],\n",
       "         [ 0.0382, -1.8895, -0.5701,  ..., -0.2208, -0.3327,  0.8098]],\n",
       "\n",
       "        [[-0.3329, -1.8132, -1.5388,  ...,  1.5561, -0.4964, -0.3360],\n",
       "         [-0.8636, -1.2953, -0.7040,  ...,  1.2787, -1.2178, -1.2512],\n",
       "         [-0.5128, -1.3694, -0.7791,  ...,  0.4329, -0.2848, -0.0644],\n",
       "         ...,\n",
       "         [-1.6536, -1.7142, -1.3838,  ...,  2.2482, -0.5455, -0.0396],\n",
       "         [-1.1587, -1.0095, -0.7521,  ...,  1.2510, -1.2437,  0.1829],\n",
       "         [-0.7241, -1.0399, -0.3165,  ...,  1.0678, -0.8715,  0.0108]],\n",
       "\n",
       "        ...,\n",
       "\n",
       "        [[-1.2828, -1.8905, -1.2503,  ...,  1.4055, -0.0428, -0.5378],\n",
       "         [-0.8731, -1.6463, -1.7463,  ...,  1.7938, -0.6529, -0.9547],\n",
       "         [-0.9444, -1.9785, -0.8324,  ...,  1.6540, -0.1225, -0.3674],\n",
       "         ...,\n",
       "         [-1.2003, -2.0273, -1.2220,  ...,  0.5937, -0.2054, -0.4155],\n",
       "         [-1.0433, -1.7103, -1.3162,  ...,  0.7207, -0.0930, -0.1253],\n",
       "         [-0.9614, -1.9820, -0.8459,  ...,  1.0057,  0.3059,  0.0929]],\n",
       "\n",
       "        [[-1.0636, -1.8832, -1.1293,  ...,  1.3721, -0.5554, -0.8742],\n",
       "         [-1.0236, -1.2845, -0.8842,  ...,  1.5676, -0.2600, -0.8823],\n",
       "         [-0.9147, -1.2900, -0.3844,  ...,  0.8348, -0.7862, -0.8985],\n",
       "         ...,\n",
       "         [-1.3703, -1.4476, -0.6883,  ...,  1.2314, -0.6871, -1.1162],\n",
       "         [-0.9810, -1.2635, -0.7604,  ...,  1.0120, -1.0046, -0.6592],\n",
       "         [-0.8795, -0.9375, -0.5560,  ...,  1.1862, -0.3940, -0.3656]],\n",
       "\n",
       "        [[-0.0983, -2.0168, -0.4253,  ...,  2.4577,  0.0656, -0.9271],\n",
       "         [-0.7892, -1.2144, -0.3192,  ...,  2.2825, -1.1015, -0.8197],\n",
       "         [-0.6036, -1.8233, -0.2013,  ...,  1.6653, -1.2616, -0.6168],\n",
       "         ...,\n",
       "         [-0.8526, -1.6957, -0.7066,  ...,  2.3234, -1.2116, -0.5880],\n",
       "         [-0.7250, -1.2453, -0.4278,  ...,  1.8784, -0.9039, -0.6767],\n",
       "         [-0.3528, -2.3179, -0.0458,  ...,  2.1574, -0.1688, -0.3986]]],\n",
       "       grad_fn=<NativeLayerNormBackward0>)"
      ]
     },
     "execution_count": 10,
     "metadata": {},
     "output_type": "execute_result"
    }
   ],
   "source": [
    "Fq_enhanced"
   ]
  },
  {
   "cell_type": "code",
   "execution_count": 11,
   "metadata": {},
   "outputs": [
    {
     "data": {
      "text/plain": [
       "tensor([[[-1.0801,  0.2052, -0.6069,  ...,  2.0831,  0.3651, -0.9781],\n",
       "         [-1.0933,  0.1673, -0.5936,  ...,  2.0562,  0.0903, -0.7492],\n",
       "         [-1.1618,  0.4331, -0.3505,  ...,  2.0747,  0.4261, -0.7308],\n",
       "         ...,\n",
       "         [-0.9664,  0.5298, -0.3527,  ...,  2.1870,  0.1597, -0.9395],\n",
       "         [-1.0288,  0.4768, -0.4282,  ...,  2.2127,  0.1822, -0.8281],\n",
       "         [-1.1626,  0.2946, -0.5607,  ...,  2.1647,  0.3652, -0.9521]],\n",
       "\n",
       "        [[ 0.0869,  0.6148,  0.1197,  ...,  0.4189,  0.2110,  0.3955],\n",
       "         [ 0.1331,  0.5334,  0.0828,  ...,  0.4501, -0.0303,  0.7086],\n",
       "         [ 0.0352,  0.8132,  0.3428,  ...,  0.5198,  0.3541,  0.6548],\n",
       "         ...,\n",
       "         [ 0.2056,  0.8969,  0.3434,  ...,  0.5657,  0.0664,  0.5001],\n",
       "         [ 0.1231,  0.8877,  0.2921,  ...,  0.4595,  0.1375,  0.6870],\n",
       "         [ 0.0416,  0.7131,  0.2431,  ...,  0.4048,  0.3038,  0.4431]],\n",
       "\n",
       "        [[-0.4620, -0.3657, -0.0812,  ...,  0.3024,  0.4879, -1.1299],\n",
       "         [-0.3730, -0.3311, -0.0841,  ...,  0.3082,  0.1884, -0.8870],\n",
       "         [-0.5473, -0.0663,  0.1242,  ...,  0.3495,  0.5280, -0.8061],\n",
       "         ...,\n",
       "         [-0.3493, -0.0260,  0.0840,  ...,  0.4440,  0.2785, -0.9939],\n",
       "         [-0.3887, -0.0448,  0.0991,  ...,  0.3551,  0.4064, -0.9223],\n",
       "         [-0.5075, -0.3063,  0.0767,  ...,  0.2187,  0.5781, -1.0845]],\n",
       "\n",
       "        ...,\n",
       "\n",
       "        [[-0.1487, -0.7699,  0.2147,  ...,  0.1968, -0.9128,  0.8722],\n",
       "         [-0.1530, -0.7275,  0.1577,  ...,  0.2005, -1.0981,  1.0284],\n",
       "         [-0.3073, -0.4877,  0.4030,  ...,  0.2622, -0.7511,  1.0334],\n",
       "         ...,\n",
       "         [-0.1098, -0.4680,  0.4422,  ...,  0.3668, -1.0715,  0.8837],\n",
       "         [-0.1178, -0.3852,  0.4028,  ...,  0.2111, -1.0353,  0.9824],\n",
       "         [-0.1753, -0.6362,  0.3170,  ...,  0.1711, -0.9511,  0.8083]],\n",
       "\n",
       "        [[-0.1568,  0.9230, -0.3837,  ...,  0.2527, -0.6634, -0.4357],\n",
       "         [-0.0998,  0.7863, -0.4269,  ...,  0.3069, -0.9259, -0.1957],\n",
       "         [-0.2880,  1.0043, -0.1909,  ...,  0.3654, -0.5646, -0.1412],\n",
       "         ...,\n",
       "         [-0.1390,  1.1118, -0.1980,  ...,  0.4890, -0.8338, -0.3553],\n",
       "         [-0.1425,  1.0904, -0.2373,  ...,  0.4491, -0.7520, -0.1445],\n",
       "         [-0.2794,  0.9540, -0.2848,  ...,  0.2044, -0.6517, -0.3932]],\n",
       "\n",
       "        [[-1.1191,  0.8761, -0.4229,  ...,  0.1582, -0.3672,  0.5218],\n",
       "         [-1.1146,  0.8101, -0.4594,  ...,  0.1793, -0.5489,  0.7463],\n",
       "         [-1.2284,  1.0098, -0.2621,  ...,  0.2593, -0.2439,  0.7267],\n",
       "         ...,\n",
       "         [-1.0555,  1.0654, -0.2302,  ...,  0.3467, -0.4617,  0.5664],\n",
       "         [-1.0986,  1.0856, -0.2738,  ...,  0.3019, -0.4092,  0.7431],\n",
       "         [-1.2276,  0.9303, -0.3863,  ...,  0.0700, -0.3383,  0.5289]]],\n",
       "       grad_fn=<NativeLayerNormBackward0>)"
      ]
     },
     "execution_count": 11,
     "metadata": {},
     "output_type": "execute_result"
    }
   ],
   "source": [
    "Fc_q"
   ]
  },
  {
   "cell_type": "code",
   "execution_count": null,
   "metadata": {},
   "outputs": [],
   "source": []
  }
 ],
 "metadata": {
  "kernelspec": {
   "display_name": "Python 3",
   "language": "python",
   "name": "python3"
  },
  "language_info": {
   "codemirror_mode": {
    "name": "ipython",
    "version": 3
   },
   "file_extension": ".py",
   "mimetype": "text/x-python",
   "name": "python",
   "nbconvert_exporter": "python",
   "pygments_lexer": "ipython3",
   "version": "3.12.5"
  }
 },
 "nbformat": 4,
 "nbformat_minor": 2
}
